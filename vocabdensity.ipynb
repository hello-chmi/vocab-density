{
 "cells": [
  {
   "cell_type": "code",
   "execution_count": 139,
   "metadata": {
    "collapsed": true
   },
   "outputs": [],
   "source": [
    "# vocabdensity.py\n",
    "# calculates vocab density (vd) of all .txt files in local folder all-chats\n",
    "# results will be written over every time the script is run!\n",
    "# to preserve results, change filename @ vdfile file obj declaration\n",
    "\n",
    "# question: it's great that os.walk() works to only capture .txt files in\n",
    "# all-chats but i'm wondering why it's not also grabbing results.txt\n",
    "# and stopwords.txt in cwd?\n"
   ]
  },
  {
   "cell_type": "code",
   "execution_count": 130,
   "metadata": {
    "collapsed": false
   },
   "outputs": [
    {
     "name": "stdout",
     "output_type": "stream",
     "text": [
      "/Users/michelle/Desktop/vocab-density\n"
     ]
    }
   ],
   "source": [
    "import os\n",
    "os.getcwd()\n",
    "\n",
    "# get path name\n",
    "cwd = str(os.getcwd())"
   ]
  },
  {
   "cell_type": "code",
   "execution_count": 138,
   "metadata": {
    "collapsed": false
   },
   "outputs": [
    {
     "name": "stdout",
     "output_type": "stream",
     "text": [
      "/Users/michelle/Desktop/vocab-density/all-chats\n"
     ]
    }
   ],
   "source": [
    "# put all files in all-chats in files[]\n",
    "for cwd, folder, f in os.walk(cwd):\n",
    "    files = f\n",
    "    \n",
    "# remove all non .txt files\n",
    "for f in files:\n",
    "    if f.endswith('.txt'):\n",
    "        pass\n",
    "    else:\n",
    "        files.remove(f)\n"
   ]
  },
  {
   "cell_type": "code",
   "execution_count": 135,
   "metadata": {
    "collapsed": false
   },
   "outputs": [],
   "source": [
    "# import stopwords from 'stop-words.txt'\n",
    "\n",
    "with open('stopwords.txt', 'r') as f:\n",
    "    stopwords = f.read().split()\n"
   ]
  },
  {
   "cell_type": "code",
   "execution_count": 124,
   "metadata": {
    "collapsed": false
   },
   "outputs": [
    {
     "name": "stdout",
     "output_type": "stream",
     "text": [
      "Done\n"
     ]
    },
    {
     "data": {
      "text/plain": [
       "0"
      ]
     },
     "execution_count": 124,
     "metadata": {},
     "output_type": "execute_result"
    }
   ],
   "source": [
    "# declare global variables for calculating vd average\n",
    "\n",
    "numchats = float(len(files))\n",
    "vdtotal = 0.0\n",
    "\n",
    "# open file to write to\n",
    "# change filename to preserve results\n",
    "\n",
    "vdfile = open('results.txt', 'w')\n",
    "\n",
    "for filename in files: \n",
    "    #this filepath could be refined lol\n",
    "    with open(cwd + '/' + filename, 'r') as f:\n",
    "        \n",
    "        # reset variables\n",
    "        wordbank = []\n",
    "        wordlist = []\n",
    "        denominator = 0\n",
    "        numerator = 0\n",
    "        \n",
    "        # create wordbank + get total number of words (denominator)\n",
    "        wordbank = f.read().split()\n",
    "        denominator = float(len(wordbank))\n",
    "    \n",
    "        # remove stopwords\n",
    "        for word in wordbank:\n",
    "            if word in stopwords:\n",
    "                wordbank.remove(word)\n",
    "            \n",
    "        # create list of unique words + get total number of unique words (numerator)\n",
    "        for word in wordbank:\n",
    "            if word not in wordlist:\n",
    "                wordlist.append(word)\n",
    "                \n",
    "        numerator = float(len(wordlist))\n",
    "    \n",
    "        # calculate vocab density  \n",
    "        vd = (numerator/denominator)\n",
    "        vdtotal = vdtotal + vd\n",
    "        \n",
    "        # write each result to vocabdensity.txt\n",
    "        vdfile.write(filename + \": \" + str(vd) + \"\\n\")\n",
    "\n",
    "vdfile.write('The average is: ' + str(vdtotal/numchats))\n",
    "vdfile.close()\n",
    "\n",
    "print 'Done'\n",
    "\n",
    "os.system(\"open \" + 'results.txt')"
   ]
  },
  {
   "cell_type": "code",
   "execution_count": null,
   "metadata": {
    "collapsed": false
   },
   "outputs": [],
   "source": []
  },
  {
   "cell_type": "code",
   "execution_count": null,
   "metadata": {
    "collapsed": true
   },
   "outputs": [],
   "source": []
  }
 ],
 "metadata": {
  "kernelspec": {
   "display_name": "Python 2",
   "language": "python",
   "name": "python2"
  },
  "language_info": {
   "codemirror_mode": {
    "name": "ipython",
    "version": 2
   },
   "file_extension": ".py",
   "mimetype": "text/x-python",
   "name": "python",
   "nbconvert_exporter": "python",
   "pygments_lexer": "ipython2",
   "version": "2.7.11"
  }
 },
 "nbformat": 4,
 "nbformat_minor": 1
}
